{
 "cells": [
  {
   "cell_type": "markdown",
   "source": [
    "# Тестовое задание на позицию Junior Python Developer"
   ],
   "metadata": {
    "collapsed": false
   },
   "id": "49ccc70c7b28b75e"
  },
  {
   "cell_type": "markdown",
   "source": [
    "## Проверка на корректность заполнения поля."
   ],
   "metadata": {
    "collapsed": false
   },
   "id": "3a67483c21e463a8"
  },
  {
   "cell_type": "code",
   "execution_count": 26,
   "outputs": [
    {
     "data": {
      "text/plain": "'корректно'"
     },
     "execution_count": 26,
     "metadata": {},
     "output_type": "execute_result"
    }
   ],
   "source": [
    "import string\n",
    "\n",
    "\n",
    "def verify_template(template: str, keys: list) -> str:\n",
    "    keyset = set(keys)\n",
    "    template_parts = string.Formatter().parse(template)\n",
    "    template_keys = map(lambda part: part[1], template_parts)\n",
    "    template_keys_set = set(template_keys)\n",
    "    is_correct = template_keys_set.issubset(keyset)\n",
    "    return \"корректно\" if is_correct else \"ошибка\"\n",
    "\n",
    "\n",
    "verify_template(\n",
    "    '''{name}, ваша запись изменена:\n",
    "⌚️ {day_month} в {start_time}\n",
    "👩 {master}\n",
    "Услуги:\n",
    "{services}\n",
    "управление записью {record_link}''',\n",
    "    ['name', 'day_month', 'day_of_week', 'start_time', 'end_time', 'master', 'services', 'record_link']\n",
    ")"
   ],
   "metadata": {
    "collapsed": false,
    "ExecuteTime": {
     "end_time": "2023-11-22T16:29:44.649150300Z",
     "start_time": "2023-11-22T16:29:44.644619100Z"
    }
   },
   "id": "d970e0562ba107f3"
  },
  {
   "cell_type": "markdown",
   "source": [
    "## Подсчет элементов"
   ],
   "metadata": {
    "collapsed": false
   },
   "id": "9b7b1ac44816cefb"
  },
  {
   "cell_type": "code",
   "execution_count": 25,
   "outputs": [
    {
     "data": {
      "text/plain": "[['665587', 2, 1], ['669532', 1, 2], ['669537', 2, 1], ['665587', 1, 1]]"
     },
     "execution_count": 25,
     "metadata": {},
     "output_type": "execute_result"
    }
   ],
   "source": [
    "from collections import Counter\n",
    "\n",
    "\n",
    "def group_version_list(version_list: list[list[str, int]]) -> list[list[str, int, int]]:\n",
    "    tupled_list = [tuple(inner_list) for inner_list in version_list]\n",
    "    c = Counter(tupled_list)\n",
    "    return [[*list(version_item), count] for version_item, count in c.items()]\n",
    "\n",
    "\n",
    "group_version_list([['665587', 2], ['669532', 1], ['669537', 2], ['669532', 1], ['665587', 1]])\n"
   ],
   "metadata": {
    "collapsed": false,
    "ExecuteTime": {
     "end_time": "2023-11-22T16:27:39.127562700Z",
     "start_time": "2023-11-22T16:27:39.123289900Z"
    }
   },
   "id": "22932abaca0ef577"
  },
  {
   "cell_type": "markdown",
   "source": [
    "## Поиск разницы между 2мя json"
   ],
   "metadata": {
    "collapsed": false
   },
   "id": "badacb886a28bfe4"
  },
  {
   "cell_type": "code",
   "execution_count": 35,
   "outputs": [
    {
     "data": {
      "text/plain": "{'data': {'id': 11111111,\n  'company_id': 111111,\n  'services': [{'id': 22222225,\n    'title': 'Стрижка',\n    'cost': 1500,\n    'cost_per_unit': 1500,\n    'first_cost': 1500,\n    'amount': 1}],\n  'goods_transactions': [],\n  'staff': {'id': 1819441, 'name': 'Мастер'},\n  'client': {'id': 130345867,\n   'name': 'Клиент',\n   'phone': '79111111111',\n   'success_visits_count': 2,\n   'fail_visits_count': 0},\n  'clients_count': 1,\n  'datetime': '2022-01-25T13:00:00+03:00',\n  'create_date': '2022-01-22T00:54:00+03:00',\n  'online': False,\n  'attendance': 2,\n  'confirmed': 1,\n  'seance_length': 3600,\n  'length': 3600,\n  'master_request': 1,\n  'visit_id': 346427049,\n  'created_user_id': 10573443,\n  'deleted': False,\n  'paid_full': 1,\n  'last_change_date': '2022-01-22T00:54:00+03:00',\n  'record_labels': '',\n  'date': '2022-01-22 10:00:00'}}"
     },
     "execution_count": 35,
     "metadata": {},
     "output_type": "execute_result"
    }
   ],
   "source": [
    "def ordered(obj) -> ...:\n",
    "    if isinstance(obj, dict):\n",
    "        return sorted((k, ordered(v)) for k, v in obj.items())\n",
    "    if isinstance(obj, list):\n",
    "        return sorted(ordered(x) for x in obj)\n",
    "    else:\n",
    "        return obj\n",
    "\n",
    "\n",
    "def diff_json(json_old: dict[str, ...], json_new: dict[str, ...], diff_list: list[str]) -> dict[str, ...]:\n",
    "    diff_set = set(diff_list)\n",
    "    keys = json_old.keys()\n",
    "    result = {}\n",
    "    for k in keys:\n",
    "        if k in diff_set:\n",
    "            ordered_old = ordered(json_old[k])\n",
    "            ordered_new = ordered(json_new[k])\n",
    "            if ordered_old != ordered_new:\n",
    "                result[k] = json_new[k]\n",
    "    return result\n",
    "\n",
    "\n",
    "diff_json(\n",
    "    {\n",
    "        'company_id': 111111, 'resource': 'record', 'resource_id': 406155061, 'status': 'create',\n",
    "        'data': {'id': 11111111, 'company_id': 111111, 'services': [\n",
    "            {'id': 9035445, 'title': 'Стрижка', 'cost': 1500, 'cost_per_unit': 1500, 'first_cost': 1500,\n",
    "             'amount': 1}], 'goods_transactions': [], 'staff': {'id': 1819441, 'name': 'Мастер'},\n",
    "                 'client': {'id': 130345867, 'name': 'Клиент', 'phone': '79111111111', 'success_visits_count': 2,\n",
    "                            'fail_visits_count': 0}, 'clients_count': 1, 'datetime': '2022-01-25T11:00:00+03:00',\n",
    "                 'create_date': '2022-01-22T00:54:00+03:00', 'online': False, 'attendance': 0, 'confirmed': 1,\n",
    "                 'seance_length': 3600, 'length': 3600, 'master_request': 1, 'visit_id': 346427049,\n",
    "                 'created_user_id': 10573443, 'deleted': False, 'paid_full': 0,\n",
    "                 'last_change_date': '2022-01-22T00:54:00+03:00', 'record_labels': '',\n",
    "                 'date': '2022-01-22 10:00:00'}\n",
    "    },\n",
    "    {\n",
    "        'company_id': 111111, 'resource': 'record', 'resource_id': 406155061, 'status': 'create',\n",
    "        'data': {'id': 11111111, 'company_id': 111111, 'services': [\n",
    "            {'id': 22222225, 'title': 'Стрижка', 'cost': 1500, 'cost_per_unit': 1500, 'first_cost': 1500,\n",
    "             'amount': 1}], 'goods_transactions': [], 'staff': {'id': 1819441, 'name': 'Мастер'},\n",
    "                 'client': {'id': 130345867, 'name': 'Клиент', 'phone': '79111111111', 'success_visits_count': 2,\n",
    "                            'fail_visits_count': 0}, 'clients_count': 1, 'datetime': '2022-01-25T13:00:00+03:00',\n",
    "                 'create_date': '2022-01-22T00:54:00+03:00', 'online': False, 'attendance': 2, 'confirmed': 1,\n",
    "                 'seance_length': 3600, 'length': 3600, 'master_request': 1, 'visit_id': 346427049,\n",
    "                 'created_user_id': 10573443, 'deleted': False, 'paid_full': 1,\n",
    "                 'last_change_date': '2022-01-22T00:54:00+03:00', 'record_labels': '',\n",
    "                 'date': '2022-01-22 10:00:00'}\n",
    "    },\n",
    "    ['data']\n",
    ")"
   ],
   "metadata": {
    "collapsed": false,
    "ExecuteTime": {
     "end_time": "2023-11-23T17:34:20.200454100Z",
     "start_time": "2023-11-23T17:34:20.175720200Z"
    }
   },
   "id": "7e22e58b60e6219a"
  },
  {
   "cell_type": "markdown",
   "source": [
    "## Очистка БД"
   ],
   "metadata": {
    "collapsed": false
   },
   "id": "86e45e1e03613bf6"
  },
  {
   "cell_type": "markdown",
   "source": [
    "Воспользуемся встроенной функцией MongoDB - индексом автоудаления (или ttl индексом). Пусть у документа есть поле - время создания, createdAt. Сделаем его индексом и зададим ему опцию expireAfterSeconds:"
   ],
   "metadata": {
    "collapsed": false
   },
   "id": "ec3e65c3ed983aa1"
  },
  {
   "cell_type": "code",
   "execution_count": null,
   "outputs": [],
   "source": [
    "mycollection.create_index([(\"createdAt\", pymongo.DESCENDING)], {\"expireAfterSeconds\": 24 * 60 * 60 })"
   ],
   "metadata": {
    "collapsed": false
   },
   "id": "5b1140eecb5a2f3b"
  },
  {
   "cell_type": "markdown",
   "source": [
    "Теперь программа mongod будет автоматически удалять документы, у которых время создания createdAt меньше текущего на expireAfterSeconds секунд. \n",
    "\n",
    "Возможны также решения через cron и тому подобные программы в тех случаях, когда ttl индекс создать невозможно, например, если надо настроить просрочку документов по двум полям."
   ],
   "metadata": {
    "collapsed": false
   },
   "id": "c406e678be16cc2c"
  },
  {
   "cell_type": "markdown",
   "source": [
    "## Схема кода"
   ],
   "metadata": {
    "collapsed": false
   },
   "id": "d4ae4bf33b1a7eb0"
  },
  {
   "cell_type": "markdown",
   "source": [
    "Пусть модель данных для вебхука выглядит так:"
   ],
   "metadata": {
    "collapsed": false
   },
   "id": "f80620ca68b04bdc"
  },
  {
   "cell_type": "code",
   "execution_count": 30,
   "outputs": [],
   "source": [
    "import dataclasses\n",
    "\n",
    "@dataclasses.dataclass\n",
    "class Update:\n",
    "    function: str\n"
   ],
   "metadata": {
    "collapsed": false,
    "ExecuteTime": {
     "end_time": "2023-11-23T17:22:05.174498200Z",
     "start_time": "2023-11-23T17:22:05.166456600Z"
    }
   },
   "id": "e3133ec400925c70"
  },
  {
   "cell_type": "markdown",
   "source": [
    "Создадим класс, содержащий все функции-обработчики нашего приложения:"
   ],
   "metadata": {
    "collapsed": false
   },
   "id": "206231294756a2e1"
  },
  {
   "cell_type": "code",
   "execution_count": 31,
   "outputs": [],
   "source": [
    "from typing import Callable\n",
    "\n",
    "\n",
    "class Handler:\n",
    "    \"\"\"базовый класс обработчиков\"\"\"\n",
    "    def __init__(self, func_name: str, func: Callable):\n",
    "        self.func_name = func_name\n",
    "        self.func = func\n",
    "\n",
    "    def can_handle(self, update: Update):\n",
    "        \"\"\"общее условие для всех обработчиков - если имя функции совпадает, то исполняем ее\"\"\"\n",
    "        return update.function == self.func_name\n",
    "\n",
    "    def handle(self):\n",
    "        return self.func()\n",
    "\n",
    "\n",
    "class HandlerChain:\n",
    "    \"\"\"содержит в себе все обработчики и выбирает подходящий, если он способен выполнить функцию\"\"\"\n",
    "    def __init__(self):\n",
    "        self.handlers: list[Handler] = []\n",
    "\n",
    "    def add_handler(self, handler: Handler):\n",
    "        self.handlers.append(handler)\n",
    "\n",
    "    def process_message(self, update: Update):\n",
    "        \"\"\"пройтись по всем функциям, выбрать совпадающую по имени, исполнить ее\"\"\"\n",
    "        for handler in self.handlers:\n",
    "            if handler.can_handle(update):\n",
    "                handler.handle()\n",
    "                break\n"
   ],
   "metadata": {
    "collapsed": false,
    "ExecuteTime": {
     "end_time": "2023-11-23T17:22:07.819185500Z",
     "start_time": "2023-11-23T17:22:07.805428Z"
    }
   },
   "id": "de1c886045dfba82"
  },
  {
   "cell_type": "markdown",
   "source": [
    "Добавим функцию-обработчик в цепочку функций:"
   ],
   "metadata": {
    "collapsed": false
   },
   "id": "4af678b7a5d2be11"
  },
  {
   "cell_type": "code",
   "execution_count": 32,
   "outputs": [],
   "source": [
    "chain = HandlerChain()\n",
    "chain.add_handler(Handler(\"my_function_name\", lambda: print(\"I got executed!\")))\n"
   ],
   "metadata": {
    "collapsed": false,
    "ExecuteTime": {
     "end_time": "2023-11-23T17:22:10.432963700Z",
     "start_time": "2023-11-23T17:22:10.421905700Z"
    }
   },
   "id": "eafc5532164b655d"
  },
  {
   "cell_type": "markdown",
   "source": [
    "Изобразим, что пришел вебхук и надо исполнить функцию в ответ:"
   ],
   "metadata": {
    "collapsed": false
   },
   "id": "3b847d939ce0d4f0"
  },
  {
   "cell_type": "code",
   "execution_count": 33,
   "outputs": [
    {
     "name": "stdout",
     "output_type": "stream",
     "text": [
      "I got executed!\n"
     ]
    }
   ],
   "source": [
    "upd_from_webhook = Update(\"my_function_name\")\n",
    "chain.process_message(upd_from_webhook)"
   ],
   "metadata": {
    "collapsed": false,
    "ExecuteTime": {
     "end_time": "2023-11-23T17:22:12.811932300Z",
     "start_time": "2023-11-23T17:22:12.783409900Z"
    }
   },
   "id": "997427149bda8f71"
  },
  {
   "cell_type": "code",
   "execution_count": null,
   "outputs": [],
   "source": [],
   "metadata": {
    "collapsed": false
   },
   "id": "1caa64b78d7e580d"
  }
 ],
 "metadata": {
  "kernelspec": {
   "display_name": "Python 3",
   "language": "python",
   "name": "python3"
  },
  "language_info": {
   "codemirror_mode": {
    "name": "ipython",
    "version": 2
   },
   "file_extension": ".py",
   "mimetype": "text/x-python",
   "name": "python",
   "nbconvert_exporter": "python",
   "pygments_lexer": "ipython2",
   "version": "2.7.6"
  }
 },
 "nbformat": 4,
 "nbformat_minor": 5
}
